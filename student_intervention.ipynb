{
 "cells": [
  {
   "cell_type": "markdown",
   "metadata": {},
   "source": [
    "# Project 2: Supervised Learning\n",
    "Building a Student Intervention System"
   ]
  },
  {
   "cell_type": "markdown",
   "metadata": {},
   "source": [
    "## Classification vs Regression\n",
    "\n",
    "Your goal is to identify students who might need early intervention - which type of supervised machine learning problem is this, classification or regression? Why?"
   ]
  },
  {
   "cell_type": "markdown",
   "metadata": {},
   "source": [
    "**Answer: **\n",
    "I think this type of problem is classification, because the target data is discrete, students who passed and students who failed."
   ]
  },
  {
   "cell_type": "markdown",
   "metadata": {},
   "source": [
    "## Exploring the Data\n",
    "\n",
    "Let's go ahead and read in the student dataset first."
   ]
  },
  {
   "cell_type": "code",
   "execution_count": 1,
   "metadata": {
    "collapsed": false
   },
   "outputs": [],
   "source": [
    "# Import libraries\n",
    "import numpy as np\n",
    "import pandas as pd"
   ]
  },
  {
   "cell_type": "code",
   "execution_count": 2,
   "metadata": {
    "collapsed": false
   },
   "outputs": [
    {
     "name": "stdout",
     "output_type": "stream",
     "text": [
      "Student data read successfully!\n"
     ]
    }
   ],
   "source": [
    "# Read student data\n",
    "student_data = pd.read_csv(\"student-data.csv\")\n",
    "print \"Student data read successfully!\"\n",
    "# Note: The last column 'passed' is the target/label, all other are feature columns"
   ]
  },
  {
   "cell_type": "markdown",
   "metadata": {},
   "source": [
    "Now, can you find out the following facts about the dataset?\n",
    "- Total number of students\n",
    "- Number of students who passed\n",
    "- Number of students who failed\n",
    "- Graduation rate of the class (%)\n",
    "- Number of features"
   ]
  },
  {
   "cell_type": "code",
   "execution_count": 3,
   "metadata": {
    "collapsed": false
   },
   "outputs": [
    {
     "name": "stdout",
     "output_type": "stream",
     "text": [
      "Total number of students: 395\n",
      "Number of students who passed: 265\n",
      "Number of students who failed: 130\n",
      "Number of features: 30\n",
      "Graduation rate of the class: 67.09%\n"
     ]
    }
   ],
   "source": [
    "n_students = student_data.shape[0]\n",
    "n_features = student_data.shape[1]\n",
    "n_passed = student_data[student_data['passed']=='yes'].shape[0]\n",
    "n_failed = n_students - n_passed\n",
    "grad_rate = (n_passed * 100.0) / n_students\n",
    "print \"Total number of students: {}\".format(n_students)\n",
    "print \"Number of students who passed: {}\".format(n_passed)\n",
    "print \"Number of students who failed: {}\".format(n_failed)\n",
    "print \"Number of features: {}\".format(n_features-1)\n",
    "print \"Graduation rate of the class: {:.2f}%\".format(grad_rate)"
   ]
  },
  {
   "cell_type": "markdown",
   "metadata": {},
   "source": [
    "## Preparing the Data\n",
    "In this section, we will prepare the data for modeling, training and testing.\n",
    "\n",
    "### Identify feature and target columns\n",
    "It is often the case that the data you obtain contains non-numeric features. This can be a problem, as most machine learning algorithms expect numeric data to perform computations with."
   ]
  },
  {
   "cell_type": "code",
   "execution_count": 4,
   "metadata": {
    "collapsed": false
   },
   "outputs": [
    {
     "name": "stdout",
     "output_type": "stream",
     "text": [
      "Feature column(s):-\n",
      "['school', 'sex', 'age', 'address', 'famsize', 'Pstatus', 'Medu', 'Fedu', 'Mjob', 'Fjob', 'reason', 'guardian', 'traveltime', 'studytime', 'failures', 'schoolsup', 'famsup', 'paid', 'activities', 'nursery', 'higher', 'internet', 'romantic', 'famrel', 'freetime', 'goout', 'Dalc', 'Walc', 'health', 'absences']\n",
      "Target column: passed\n",
      "\n",
      "Feature values:-\n",
      "  school sex  age address famsize Pstatus  Medu  Fedu     Mjob      Fjob  \\\n",
      "0     GP   F   18       U     GT3       A     4     4  at_home   teacher   \n",
      "1     GP   F   17       U     GT3       T     1     1  at_home     other   \n",
      "2     GP   F   15       U     LE3       T     1     1  at_home     other   \n",
      "3     GP   F   15       U     GT3       T     4     2   health  services   \n",
      "4     GP   F   16       U     GT3       T     3     3    other     other   \n",
      "\n",
      "    ...    higher internet  romantic  famrel  freetime goout Dalc Walc health  \\\n",
      "0   ...       yes       no        no       4         3     4    1    1      3   \n",
      "1   ...       yes      yes        no       5         3     3    1    1      3   \n",
      "2   ...       yes      yes        no       4         3     2    2    3      3   \n",
      "3   ...       yes      yes       yes       3         2     2    1    1      5   \n",
      "4   ...       yes       no        no       4         3     2    1    2      5   \n",
      "\n",
      "  absences  \n",
      "0        6  \n",
      "1        4  \n",
      "2       10  \n",
      "3        2  \n",
      "4        4  \n",
      "\n",
      "[5 rows x 30 columns]\n"
     ]
    }
   ],
   "source": [
    "# Extract feature (X) and target (y) columns\n",
    "feature_cols = list(student_data.columns[:-1])  # all columns but last are features\n",
    "target_col = student_data.columns[-1]  # last column is the target/label\n",
    "print \"Feature column(s):-\\n{}\".format(feature_cols)\n",
    "print \"Target column: {}\".format(target_col)\n",
    "\n",
    "X_all = student_data[feature_cols]  # feature values for all students\n",
    "y_all = student_data[target_col]  # corresponding targets/labels\n",
    "print \"\\nFeature values:-\"\n",
    "print X_all.head()  # print the first 5 rows"
   ]
  },
  {
   "cell_type": "markdown",
   "metadata": {},
   "source": [
    "### Preprocess feature columns\n",
    "\n",
    "As you can see, there are several non-numeric columns that need to be converted! Many of them are simply `yes`/`no`, e.g. `internet`. These can be reasonably converted into `1`/`0` (binary) values.\n",
    "\n",
    "Other columns, like `Mjob` and `Fjob`, have more than two values, and are known as _categorical variables_. The recommended way to handle such a column is to create as many columns as possible values (e.g. `Fjob_teacher`, `Fjob_other`, `Fjob_services`, etc.), and assign a `1` to one of them and `0` to all others.\n",
    "\n",
    "These generated columns are sometimes called _dummy variables_, and we will use the [`pandas.get_dummies()`](http://pandas.pydata.org/pandas-docs/stable/generated/pandas.get_dummies.html?highlight=get_dummies#pandas.get_dummies) function to perform this transformation."
   ]
  },
  {
   "cell_type": "code",
   "execution_count": 5,
   "metadata": {
    "collapsed": false
   },
   "outputs": [
    {
     "name": "stdout",
     "output_type": "stream",
     "text": [
      "Processed feature columns (48):-\n",
      "['school_GP', 'school_MS', 'sex_F', 'sex_M', 'age', 'address_R', 'address_U', 'famsize_GT3', 'famsize_LE3', 'Pstatus_A', 'Pstatus_T', 'Medu', 'Fedu', 'Mjob_at_home', 'Mjob_health', 'Mjob_other', 'Mjob_services', 'Mjob_teacher', 'Fjob_at_home', 'Fjob_health', 'Fjob_other', 'Fjob_services', 'Fjob_teacher', 'reason_course', 'reason_home', 'reason_other', 'reason_reputation', 'guardian_father', 'guardian_mother', 'guardian_other', 'traveltime', 'studytime', 'failures', 'schoolsup', 'famsup', 'paid', 'activities', 'nursery', 'higher', 'internet', 'romantic', 'famrel', 'freetime', 'goout', 'Dalc', 'Walc', 'health', 'absences']\n"
     ]
    }
   ],
   "source": [
    "# Preprocess feature columns\n",
    "def preprocess_features(X):\n",
    "    outX = pd.DataFrame(index=X.index)  # output dataframe, initially empty\n",
    "\n",
    "    # Check each column\n",
    "    for col, col_data in X.iteritems():\n",
    "        # If data type is non-numeric, try to replace all yes/no values with 1/0\n",
    "        if col_data.dtype == object:\n",
    "            col_data = col_data.replace(['yes', 'no'], [1, 0])\n",
    "        # Note: This should change the data type for yes/no columns to int\n",
    "\n",
    "        # If still non-numeric, convert to one or more dummy variables\n",
    "        if col_data.dtype == object:\n",
    "            col_data = pd.get_dummies(col_data, prefix=col)  # e.g. 'school' => 'school_GP', 'school_MS'\n",
    "\n",
    "        outX = outX.join(col_data)  # collect column(s) in output dataframe\n",
    "\n",
    "    return outX\n",
    "\n",
    "X_all = preprocess_features(X_all)\n",
    "print \"Processed feature columns ({}):-\\n{}\".format(len(X_all.columns), list(X_all.columns))"
   ]
  },
  {
   "cell_type": "markdown",
   "metadata": {},
   "source": [
    "### Split data into training and test sets\n",
    "\n",
    "So far, we have converted all _categorical_ features into numeric values. In this next step, we split the data (both features and corresponding labels) into training and test sets."
   ]
  },
  {
   "cell_type": "code",
   "execution_count": 6,
   "metadata": {
    "collapsed": false
   },
   "outputs": [
    {
     "name": "stdout",
     "output_type": "stream",
     "text": [
      "Training set: 300 samples\n",
      "Test set: 95 samples\n"
     ]
    }
   ],
   "source": [
    "from sklearn.cross_validation import train_test_split\n",
    "# First, decide how many training vs test samples you want\n",
    "num_all = student_data.shape[0]  # same as len(student_data)\n",
    "num_train = 300  # about 75% of the data\n",
    "num_test = num_all - num_train\n",
    "\n",
    "\n",
    "# TODO: Then, select features (X) and corresponding labels (y) for the training and test sets\n",
    "# Note: Shuffle the data or randomly select samples to avoid any bias due to ordering in the dataset\n",
    "X_train, X_test, y_train, y_test = train_test_split(X_all, y_all, test_size=num_test, train_size=num_train)\n",
    "print \"Training set: {} samples\".format(X_train.shape[0])\n",
    "print \"Test set: {} samples\".format(X_test.shape[0])\n",
    "# Note: If you need a validation set, extract it from within training data"
   ]
  },
  {
   "cell_type": "markdown",
   "metadata": {},
   "source": [
    "## Training and Evaluating Models\n",
    "Choose 3 supervised learning models that are available in scikit-learn, and appropriate for this problem. For each model:\n",
    "\n",
    "- What are the general applications of this model? What are its strengths and weaknesses?\n",
    "- Given what you know about the data so far, why did you choose this model to apply?\n",
    "- Fit this model to the training data, try to predict labels (for both training and test sets), and measure the F<sub>1</sub> score. Repeat this process with different training set sizes (100, 200, 300), keeping test set constant.\n",
    "\n",
    "Produce a table showing training time, prediction time, F<sub>1</sub> score on training set and F<sub>1</sub> score on test set, for each training set size.\n",
    "\n",
    "Note: You need to produce 3 such tables - one for each model."
   ]
  },
  {
   "cell_type": "markdown",
   "metadata": {},
   "source": [
    "### Decision Tree Model"
   ]
  },
  {
   "cell_type": "markdown",
   "metadata": {},
   "source": [
    "* Strengths:\n",
    "    * It's easy to understand and to interpret.\n",
    "    * The cost of predicting data is logarithmic in the number of data points used to train the tree.\n",
    "    * Able to handle both numerical and categorical data.\n",
    "* Weakness:\n",
    "    * It's very sensitive to slight variations in the data.\n",
    "    * It's easy to be overfit\n",
    "* Why did you choose this model to apply?\n",
    "    * Because we only have small number of data set and many features, the simple decision tree model could be the good choice."
   ]
  },
  {
   "cell_type": "code",
   "execution_count": 7,
   "metadata": {
    "collapsed": false
   },
   "outputs": [
    {
     "name": "stdout",
     "output_type": "stream",
     "text": [
      "DecisionTreeClassifier(class_weight=None, criterion='gini', max_depth=None,\n",
      "            max_features=None, max_leaf_nodes=None, min_samples_leaf=1,\n",
      "            min_samples_split=2, min_weight_fraction_leaf=0.0,\n",
      "            presort=False, random_state=None, splitter='best')\n"
     ]
    }
   ],
   "source": [
    "# Train a Decision Tree model\n",
    "import time\n",
    "\n",
    "def train_classifier(clf, X_train, y_train):\n",
    "    start = time.time()\n",
    "    clf.fit(X_train, y_train)\n",
    "    end = time.time()\n",
    "    return clf, end - start\n",
    "\n",
    "# Choose a model, import it and instantiate an object\n",
    "from sklearn import tree\n",
    "clf = tree.DecisionTreeClassifier()\n",
    "\n",
    "# Fit model to training data\n",
    "clf,_ = train_classifier(clf, X_train, y_train)  # note: using entire training set here\n",
    "print clf"
   ]
  },
  {
   "cell_type": "code",
   "execution_count": 8,
   "metadata": {
    "collapsed": false
   },
   "outputs": [
    {
     "name": "stdout",
     "output_type": "stream",
     "text": [
      "F1 score for training set: 1.0\n"
     ]
    }
   ],
   "source": [
    "# Predict on training set and compute F1 score\n",
    "from sklearn.metrics import f1_score\n",
    "\n",
    "def predict_labels(clf, features, target):\n",
    "    start = time.time()\n",
    "    y_pred = clf.predict(features)\n",
    "    end = time.time()\n",
    "    return f1_score(target.values, y_pred, pos_label='yes'), end - start\n",
    "\n",
    "train_f1_score, _ = predict_labels(clf, X_train, y_train)\n",
    "print \"F1 score for training set: {}\".format(train_f1_score)"
   ]
  },
  {
   "cell_type": "code",
   "execution_count": 9,
   "metadata": {
    "collapsed": false
   },
   "outputs": [
    {
     "name": "stdout",
     "output_type": "stream",
     "text": [
      "F1 score for test set: 0.713178294574\n"
     ]
    }
   ],
   "source": [
    "# Predict on test data\n",
    "test_f1_score, _ = predict_labels(clf, X_test, y_test)\n",
    "print \"F1 score for test set: {}\".format(test_f1_score)"
   ]
  },
  {
   "cell_type": "code",
   "execution_count": 10,
   "metadata": {
    "collapsed": false
   },
   "outputs": [],
   "source": [
    "# Train and predict using different training set sizes\n",
    "def train_predict(clf, X_train, y_train, X_test, y_test):\n",
    "    clf, time_training = train_classifier(clf, X_train, y_train)\n",
    "    score_training, _  = predict_labels(clf, X_train, y_train)\n",
    "    score_testing, time_predicting = predict_labels(clf, X_test, y_test)\n",
    "    return score_training, time_training, score_testing, time_predicting\n",
    "\n",
    "df_DT = pd.DataFrame(columns=['Set Size', 'Training time', 'Prediction time', \n",
    "                              'F1 score for training set', 'F1 score for test set'])\n",
    "\n",
    "X_train, X_test, y_train, y_test = train_test_split(X_all, y_all, test_size=num_test, train_size=num_train)\n",
    "for num in xrange(50, 350, 50):     \n",
    "    score_training, time_training, score_testing, time_testing = train_predict(tree.DecisionTreeClassifier(),\n",
    "                                                                               X_train[:num], y_train[:num],\n",
    "                                                                               X_test, y_test)\n",
    "    df_DT = df_DT.append({'Set Size':num,'Training time':time_training, \n",
    "                    'Prediction time': time_testing,\n",
    "                    'F1 score for training set': score_training,\n",
    "                    'F1 score for test set': score_testing}, ignore_index=True)\n"
   ]
  },
  {
   "cell_type": "code",
   "execution_count": 11,
   "metadata": {
    "collapsed": false
   },
   "outputs": [
    {
     "data": {
      "text/html": [
       "<div>\n",
       "<table border=\"1\" class=\"dataframe\">\n",
       "  <thead>\n",
       "    <tr style=\"text-align: right;\">\n",
       "      <th></th>\n",
       "      <th>Set Size</th>\n",
       "      <th>Training time</th>\n",
       "      <th>Prediction time</th>\n",
       "      <th>F1 score for training set</th>\n",
       "      <th>F1 score for test set</th>\n",
       "    </tr>\n",
       "  </thead>\n",
       "  <tbody>\n",
       "    <tr>\n",
       "      <th>0</th>\n",
       "      <td>50</td>\n",
       "      <td>0.001025</td>\n",
       "      <td>0.000407</td>\n",
       "      <td>1</td>\n",
       "      <td>0.769231</td>\n",
       "    </tr>\n",
       "    <tr>\n",
       "      <th>1</th>\n",
       "      <td>100</td>\n",
       "      <td>0.001667</td>\n",
       "      <td>0.000290</td>\n",
       "      <td>1</td>\n",
       "      <td>0.751880</td>\n",
       "    </tr>\n",
       "    <tr>\n",
       "      <th>2</th>\n",
       "      <td>150</td>\n",
       "      <td>0.003843</td>\n",
       "      <td>0.000475</td>\n",
       "      <td>1</td>\n",
       "      <td>0.721311</td>\n",
       "    </tr>\n",
       "    <tr>\n",
       "      <th>3</th>\n",
       "      <td>200</td>\n",
       "      <td>0.004811</td>\n",
       "      <td>0.000311</td>\n",
       "      <td>1</td>\n",
       "      <td>0.755906</td>\n",
       "    </tr>\n",
       "    <tr>\n",
       "      <th>4</th>\n",
       "      <td>250</td>\n",
       "      <td>0.002747</td>\n",
       "      <td>0.000391</td>\n",
       "      <td>1</td>\n",
       "      <td>0.752000</td>\n",
       "    </tr>\n",
       "    <tr>\n",
       "      <th>5</th>\n",
       "      <td>300</td>\n",
       "      <td>0.002846</td>\n",
       "      <td>0.000418</td>\n",
       "      <td>1</td>\n",
       "      <td>0.703125</td>\n",
       "    </tr>\n",
       "  </tbody>\n",
       "</table>\n",
       "</div>"
      ],
      "text/plain": [
       "   Set Size  Training time  Prediction time  F1 score for training set  \\\n",
       "0        50       0.001025         0.000407                          1   \n",
       "1       100       0.001667         0.000290                          1   \n",
       "2       150       0.003843         0.000475                          1   \n",
       "3       200       0.004811         0.000311                          1   \n",
       "4       250       0.002747         0.000391                          1   \n",
       "5       300       0.002846         0.000418                          1   \n",
       "\n",
       "   F1 score for test set  \n",
       "0               0.769231  \n",
       "1               0.751880  \n",
       "2               0.721311  \n",
       "3               0.755906  \n",
       "4               0.752000  \n",
       "5               0.703125  "
      ]
     },
     "metadata": {},
     "output_type": "display_data"
    }
   ],
   "source": [
    "# Table of Decision Tree\n",
    "from IPython.display import display, HTML\n",
    "display(df_DT)"
   ]
  },
  {
   "cell_type": "markdown",
   "metadata": {},
   "source": [
    "### SVM Model"
   ]
  },
  {
   "cell_type": "markdown",
   "metadata": {},
   "source": [
    "* Strengths:\n",
    "    * Effective in high dimensional spaces.\n",
    "    * It has a regularisation parameter, which makes the user think about avoiding over-fitting.\n",
    "    * Uses a subset of training points in the decision function (called support vectors), so it is also memory efficient.\n",
    "* Weakness:\n",
    "    * The biggest limitation of the support vector approach lies in choice of the kernel.\n",
    "    * A second limitation is speed and size, both in training and testing.\n",
    "    * It will not work well if there are a lof noise in data.\n",
    "* Why did you choose this model to apply?\n",
    "    * Because SVM could be effective in high dimensional spaces, this data set does have a lot of features.\n",
    "    * Besides SVM could have better generalization than decision tree."
   ]
  },
  {
   "cell_type": "code",
   "execution_count": 12,
   "metadata": {
    "collapsed": false
   },
   "outputs": [
    {
     "name": "stdout",
     "output_type": "stream",
     "text": [
      "SVC(C=1.0, cache_size=200, class_weight=None, coef0=0.0,\n",
      "  decision_function_shape=None, degree=3, gamma='auto', kernel='rbf',\n",
      "  max_iter=-1, probability=False, random_state=None, shrinking=True,\n",
      "  tol=0.001, verbose=False)\n"
     ]
    }
   ],
   "source": [
    "# Train a SVM model\n",
    "from sklearn import svm\n",
    "clf, _ = train_classifier(svm.SVC(), X_train, y_train)  # note: using entire training set here\n",
    "print clf"
   ]
  },
  {
   "cell_type": "code",
   "execution_count": 13,
   "metadata": {
    "collapsed": false
   },
   "outputs": [
    {
     "name": "stdout",
     "output_type": "stream",
     "text": [
      "F1 score for training set: 0.865671641791\n"
     ]
    }
   ],
   "source": [
    "# Predict on training set and compute F1 score\n",
    "train_f1_score, _ = predict_labels(clf, X_train, y_train)\n",
    "print \"F1 score for training set: {}\".format(train_f1_score)"
   ]
  },
  {
   "cell_type": "code",
   "execution_count": 14,
   "metadata": {
    "collapsed": false
   },
   "outputs": [
    {
     "name": "stdout",
     "output_type": "stream",
     "text": [
      "F1 score for test set: 0.802631578947\n"
     ]
    }
   ],
   "source": [
    "# Predict on test data\n",
    "test_f1_score, _ = predict_labels(clf, X_test, y_test)\n",
    "print \"F1 score for test set: {}\".format(test_f1_score)"
   ]
  },
  {
   "cell_type": "code",
   "execution_count": 15,
   "metadata": {
    "collapsed": false
   },
   "outputs": [],
   "source": [
    "df_SVC = pd.DataFrame(columns=['Set Size', 'Training time', 'Prediction time', \n",
    "                              'F1 score for training set', 'F1 score for test set'])\n",
    "\n",
    "for num in xrange(50, 350, 50):     \n",
    "    score_training, time_training, score_testing, time_testing = train_predict(svm.SVC(), \n",
    "                                                                               X_train[:num], y_train[:num],\n",
    "                                                                               X_test, y_test)\n",
    "    df_SVC = df_SVC.append({'Set Size':num,'Training time':time_training, \n",
    "                    'Prediction time': time_testing,\n",
    "                    'F1 score for training set': score_training,\n",
    "                    'F1 score for test set': score_testing}, ignore_index=True)"
   ]
  },
  {
   "cell_type": "code",
   "execution_count": 16,
   "metadata": {
    "collapsed": false
   },
   "outputs": [
    {
     "data": {
      "text/html": [
       "<div>\n",
       "<table border=\"1\" class=\"dataframe\">\n",
       "  <thead>\n",
       "    <tr style=\"text-align: right;\">\n",
       "      <th></th>\n",
       "      <th>Set Size</th>\n",
       "      <th>Training time</th>\n",
       "      <th>Prediction time</th>\n",
       "      <th>F1 score for training set</th>\n",
       "      <th>F1 score for test set</th>\n",
       "    </tr>\n",
       "  </thead>\n",
       "  <tbody>\n",
       "    <tr>\n",
       "      <th>0</th>\n",
       "      <td>50</td>\n",
       "      <td>0.001414</td>\n",
       "      <td>0.000848</td>\n",
       "      <td>0.919540</td>\n",
       "      <td>0.792208</td>\n",
       "    </tr>\n",
       "    <tr>\n",
       "      <th>1</th>\n",
       "      <td>100</td>\n",
       "      <td>0.002251</td>\n",
       "      <td>0.001439</td>\n",
       "      <td>0.862275</td>\n",
       "      <td>0.789809</td>\n",
       "    </tr>\n",
       "    <tr>\n",
       "      <th>2</th>\n",
       "      <td>150</td>\n",
       "      <td>0.035185</td>\n",
       "      <td>0.001947</td>\n",
       "      <td>0.871369</td>\n",
       "      <td>0.794872</td>\n",
       "    </tr>\n",
       "    <tr>\n",
       "      <th>3</th>\n",
       "      <td>200</td>\n",
       "      <td>0.007054</td>\n",
       "      <td>0.001959</td>\n",
       "      <td>0.850649</td>\n",
       "      <td>0.792208</td>\n",
       "    </tr>\n",
       "    <tr>\n",
       "      <th>4</th>\n",
       "      <td>250</td>\n",
       "      <td>0.008978</td>\n",
       "      <td>0.003932</td>\n",
       "      <td>0.870466</td>\n",
       "      <td>0.805195</td>\n",
       "    </tr>\n",
       "    <tr>\n",
       "      <th>5</th>\n",
       "      <td>300</td>\n",
       "      <td>0.011502</td>\n",
       "      <td>0.002788</td>\n",
       "      <td>0.865672</td>\n",
       "      <td>0.802632</td>\n",
       "    </tr>\n",
       "  </tbody>\n",
       "</table>\n",
       "</div>"
      ],
      "text/plain": [
       "   Set Size  Training time  Prediction time  F1 score for training set  \\\n",
       "0        50       0.001414         0.000848                   0.919540   \n",
       "1       100       0.002251         0.001439                   0.862275   \n",
       "2       150       0.035185         0.001947                   0.871369   \n",
       "3       200       0.007054         0.001959                   0.850649   \n",
       "4       250       0.008978         0.003932                   0.870466   \n",
       "5       300       0.011502         0.002788                   0.865672   \n",
       "\n",
       "   F1 score for test set  \n",
       "0               0.792208  \n",
       "1               0.789809  \n",
       "2               0.794872  \n",
       "3               0.792208  \n",
       "4               0.805195  \n",
       "5               0.802632  "
      ]
     },
     "metadata": {},
     "output_type": "display_data"
    }
   ],
   "source": [
    "# Table of SVC\n",
    "display(df_SVC)"
   ]
  },
  {
   "cell_type": "markdown",
   "metadata": {},
   "source": [
    "### AdaBoost Model"
   ]
  },
  {
   "cell_type": "markdown",
   "metadata": {},
   "source": [
    "* Strengths:\n",
    "    * It has good generalization.\n",
    "    * It can achieve similar classification results with much less tweaking of parameters or settings.\n",
    "    * Versatile - a wide range of base learners can be used with AdaBoost.\n",
    "* Weakness:\n",
    "    * It can be sensitive to noisy data and outliers.\n",
    "    * Weak learner should not be too complex to avoid overfitting.\n",
    "    * There needs to be enough data so that the weak learning requirement is satisfied.\n",
    "* Why did you choose this model to apply?\n",
    "    * Because we only have small number of data set and many features, the simple decision tree model could be the good choice for base estimator.\n",
    "    * And AdaBoost could reach better generaliztion than Decision Tree does."
   ]
  },
  {
   "cell_type": "code",
   "execution_count": 17,
   "metadata": {
    "collapsed": false
   },
   "outputs": [
    {
     "name": "stdout",
     "output_type": "stream",
     "text": [
      "AdaBoostClassifier(algorithm='SAMME.R', base_estimator=None,\n",
      "          learning_rate=1.0, n_estimators=50, random_state=None)\n"
     ]
    }
   ],
   "source": [
    "# Train a AdaBoost model with Decision Tree as a base estimator\n",
    "from sklearn.ensemble import AdaBoostClassifier\n",
    "clf,_ = train_classifier(AdaBoostClassifier(), X_train, y_train)  # note: using entire training set here\n",
    "print clf"
   ]
  },
  {
   "cell_type": "code",
   "execution_count": 18,
   "metadata": {
    "collapsed": false
   },
   "outputs": [
    {
     "name": "stdout",
     "output_type": "stream",
     "text": [
      "F1 score for training set: 0.873563218391\n"
     ]
    }
   ],
   "source": [
    "# Predict on training set and compute F1 score\n",
    "train_f1_score,_ = predict_labels(clf, X_train, y_train)\n",
    "print \"F1 score for training set: {}\".format(train_f1_score)"
   ]
  },
  {
   "cell_type": "code",
   "execution_count": 19,
   "metadata": {
    "collapsed": false
   },
   "outputs": [
    {
     "name": "stdout",
     "output_type": "stream",
     "text": [
      "F1 score for test set: 0.814814814815\n"
     ]
    }
   ],
   "source": [
    "# Predict on test data\n",
    "test_f1_score,_ = predict_labels(clf, X_test, y_test)\n",
    "print \"F1 score for test set: {}\".format(test_f1_score)"
   ]
  },
  {
   "cell_type": "code",
   "execution_count": 20,
   "metadata": {
    "collapsed": false
   },
   "outputs": [],
   "source": [
    "# Train and predict using different training set sizes\n",
    "df_Ada = pd.DataFrame(columns=['Set Size', 'Training time', 'Prediction time', \n",
    "                              'F1 score for training set', 'F1 score for test set'])\n",
    "\n",
    "for num in xrange(50, 350, 50):\n",
    "    score_training, time_training, score_testing, time_testing = train_predict(AdaBoostClassifier(), \n",
    "                                                                               X_train[:num], y_train[:num], \n",
    "                                                                               X_test, y_test)\n",
    "    df_Ada = df_Ada.append({'Set Size':num,'Training time':time_training, \n",
    "                    'Prediction time': time_testing,\n",
    "                    'F1 score for training set': score_training,\n",
    "                    'F1 score for test set': score_testing}, ignore_index=True)\n",
    "    "
   ]
  },
  {
   "cell_type": "code",
   "execution_count": 21,
   "metadata": {
    "collapsed": false
   },
   "outputs": [
    {
     "data": {
      "text/html": [
       "<div>\n",
       "<table border=\"1\" class=\"dataframe\">\n",
       "  <thead>\n",
       "    <tr style=\"text-align: right;\">\n",
       "      <th></th>\n",
       "      <th>Set Size</th>\n",
       "      <th>Training time</th>\n",
       "      <th>Prediction time</th>\n",
       "      <th>F1 score for training set</th>\n",
       "      <th>F1 score for test set</th>\n",
       "    </tr>\n",
       "  </thead>\n",
       "  <tbody>\n",
       "    <tr>\n",
       "      <th>0</th>\n",
       "      <td>50</td>\n",
       "      <td>0.258665</td>\n",
       "      <td>0.009880</td>\n",
       "      <td>1.000000</td>\n",
       "      <td>0.763889</td>\n",
       "    </tr>\n",
       "    <tr>\n",
       "      <th>1</th>\n",
       "      <td>100</td>\n",
       "      <td>0.182984</td>\n",
       "      <td>0.009308</td>\n",
       "      <td>0.979592</td>\n",
       "      <td>0.742424</td>\n",
       "    </tr>\n",
       "    <tr>\n",
       "      <th>2</th>\n",
       "      <td>150</td>\n",
       "      <td>0.243670</td>\n",
       "      <td>0.016290</td>\n",
       "      <td>0.940639</td>\n",
       "      <td>0.713178</td>\n",
       "    </tr>\n",
       "    <tr>\n",
       "      <th>3</th>\n",
       "      <td>200</td>\n",
       "      <td>0.183352</td>\n",
       "      <td>0.009192</td>\n",
       "      <td>0.851986</td>\n",
       "      <td>0.766917</td>\n",
       "    </tr>\n",
       "    <tr>\n",
       "      <th>4</th>\n",
       "      <td>250</td>\n",
       "      <td>0.179279</td>\n",
       "      <td>0.009119</td>\n",
       "      <td>0.847458</td>\n",
       "      <td>0.814286</td>\n",
       "    </tr>\n",
       "    <tr>\n",
       "      <th>5</th>\n",
       "      <td>300</td>\n",
       "      <td>0.185986</td>\n",
       "      <td>0.009215</td>\n",
       "      <td>0.873563</td>\n",
       "      <td>0.814815</td>\n",
       "    </tr>\n",
       "  </tbody>\n",
       "</table>\n",
       "</div>"
      ],
      "text/plain": [
       "   Set Size  Training time  Prediction time  F1 score for training set  \\\n",
       "0        50       0.258665         0.009880                   1.000000   \n",
       "1       100       0.182984         0.009308                   0.979592   \n",
       "2       150       0.243670         0.016290                   0.940639   \n",
       "3       200       0.183352         0.009192                   0.851986   \n",
       "4       250       0.179279         0.009119                   0.847458   \n",
       "5       300       0.185986         0.009215                   0.873563   \n",
       "\n",
       "   F1 score for test set  \n",
       "0               0.763889  \n",
       "1               0.742424  \n",
       "2               0.713178  \n",
       "3               0.766917  \n",
       "4               0.814286  \n",
       "5               0.814815  "
      ]
     },
     "metadata": {},
     "output_type": "display_data"
    }
   ],
   "source": [
    "# Table of AdaBoost\n",
    "display(df_Ada)"
   ]
  },
  {
   "cell_type": "markdown",
   "metadata": {},
   "source": [
    "## Choosing the Best Model\n",
    "\n",
    "- Based on the experiments you performed earlier, in 1-2 paragraphs explain to the board of supervisors what single model you chose as the best model. Which model is generally the most appropriate based on the available data, limited resources, cost, and performance?\n",
    "- In 1-2 paragraphs explain to the board of supervisors in layman's terms how the final model chosen is supposed to work (for example if you chose a Decision Tree or Support Vector Machine, how does it make a prediction).\n",
    "- Fine-tune the model. Use Gridsearch with at least one important parameter tuned and with at least 3 settings. Use the entire training set for this.\n",
    "- What is the model's final F<sub>1</sub> score?"
   ]
  },
  {
   "cell_type": "markdown",
   "metadata": {},
   "source": [
    "### Comparing Models\n",
    "* Training time: AdaBoost > SVM > Decision Tree\n",
    "* Predicting time: AdaBoost > SVM > Decision Tree\n",
    "* F1 score for test set on size of 300: AdaBoost > SVM > Decision Tree\n",
    "\n",
    "I would like to choose Adaboost for this case, because\n",
    "1. The Fl scose of this model is the best based on the above results.\n",
    "2. The training time could be acceptable, although it's highest in these three models.\n",
    "3. Because our goal is to model the factors that predict how likely a student is to pass their high school final exam and take some intervention in advanced, we do have time to compute the result. So we should focus on the F1 score instead of computational cost. "
   ]
  },
  {
   "cell_type": "markdown",
   "metadata": {},
   "source": [
    "### How AdaBoost works\n",
    "* AdaBoost is a type of \"Ensemble Learning\" where multiple classifiers are employed to build a stronger learning algorithm. AdaBoost works by choosing a base classifier (e.g. decision trees) and iteratively improving it by accounting for the incorrectly classified examples in the training set. \n",
    "* Training :\n",
    "    * First, we assign equal weights to all the training examples and choose a base classifier (e.g. decision trees). We can think of each weight as an importance weight that tells us how important the example is for our current learning task\n",
    "    * Secondly, we apply the base classifier (e.g. decision trees) to the training set and increase the weights of the incorrectly classified examples. Then the next classifier will “pay more attention” to the incorrectly classified example during training, since now has a greater weight.\n",
    "    * We iterate n times, each time applying base classifier on the training set with updated weights. The final model is the weighted sum of the n classifiers. \n",
    "* Predicting :\n",
    "    * For n classifiers, each classifier computes their results and multiply by their own weights, then sum up.\n",
    "    * Then based on the sum, deciding how to label this data.\n",
    "    * In this way, classifiers that have a poor accuracy (high error rate, low weight) are penalized in the final sum.\n"
   ]
  },
  {
   "cell_type": "code",
   "execution_count": 22,
   "metadata": {
    "collapsed": false
   },
   "outputs": [
    {
     "name": "stdout",
     "output_type": "stream",
     "text": [
      "Best parameters: {'n_estimators': 7, 'learning_rate': 0.64000000000000012}\n",
      "F1 score for training set: 0.835820895522\n",
      "F1 score for test set: 0.802721088435\n"
     ]
    }
   ],
   "source": [
    "from sklearn.grid_search import GridSearchCV\n",
    "from sklearn.metrics import f1_score\n",
    "from sklearn.metrics import make_scorer\n",
    "from sklearn.cross_validation import StratifiedShuffleSplit\n",
    "\n",
    "param_grid = {\"n_estimators\": np.arange(3,20,2), \"learning_rate\": np.arange(0.5,0.8,0.02)}\n",
    "scoring_function = make_scorer(f1_score, pos_label='yes', average='binary')\n",
    "\n",
    "clf = GridSearchCV(AdaBoostClassifier(), param_grid=param_grid, scoring=scoring_function)\n",
    "clf.fit(X_train, y_train)\n",
    "training_score,_ = predict_labels(clf.best_estimator_, X_train, y_train)\n",
    "testing_score,_ = predict_labels(clf.best_estimator_, X_test, y_test)\n",
    "print \"Best parameters: {}\".format(clf.best_params_)\n",
    "print \"F1 score for training set: {}\".format(training_score)\n",
    "print \"F1 score for test set: {}\".format(testing_score)\n",
    "    "
   ]
  }
 ],
 "metadata": {
  "kernelspec": {
   "display_name": "Python 2",
   "language": "python",
   "name": "python2"
  },
  "language_info": {
   "codemirror_mode": {
    "name": "ipython",
    "version": 2
   },
   "file_extension": ".py",
   "mimetype": "text/x-python",
   "name": "python",
   "nbconvert_exporter": "python",
   "pygments_lexer": "ipython2",
   "version": "2.7.11"
  }
 },
 "nbformat": 4,
 "nbformat_minor": 0
}
